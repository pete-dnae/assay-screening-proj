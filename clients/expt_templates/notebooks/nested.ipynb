{
 "cells": [
  {
   "cell_type": "code",
   "execution_count": 1,
   "metadata": {},
   "outputs": [],
   "source": [
    "import os\n",
    "from glob import glob"
   ]
  },
  {
   "cell_type": "code",
   "execution_count": 2,
   "metadata": {},
   "outputs": [],
   "source": [
    "from clients.utils import create_allocation_table\n",
    "from hardware.plates import create_plates_from_allocation_table\n",
    "\n",
    "expt_name = '36'\n",
    "allocation_table = create_allocation_table(expt_name)\n",
    "expt_plates = create_plates_from_allocation_table(allocation_table)"
   ]
  },
  {
   "cell_type": "code",
   "execution_count": 3,
   "metadata": {},
   "outputs": [
    {
     "name": "stderr",
     "output_type": "stream",
     "text": [
      "C:\\Users\\chris.icely\\AppData\\Local\\conda\\conda\\envs\\jupyter\\lib\\site-packages\\pandas\\core\\ops.py:816: FutureWarning: elementwise comparison failed; returning scalar instead, but in the future will perform elementwise comparison\n",
      "  result = getattr(x, name)(y)\n"
     ]
    }
   ],
   "source": [
    "from hardware.step_one import StepOneExcel\n",
    "\n",
    "EXPT = 'A81_E214'\n",
    "cwd = os.getcwd()\n",
    "expt_folder = os.path.join(os.path.dirname(os.getcwd()), 'tests', 'data')\n",
    "fds = glob(os.path.join(expt_folder, EXPT + '*.xls'))\n",
    "\n",
    "raw_instrumemt_data = {}\n",
    "for f in fds:\n",
    "    plate = os.path.basename(f).split('.')[0]\n",
    "    s1 = StepOneExcel(f)\n",
    "    raw_instrumemt_data[plate] = s1.get_data_by_well()"
   ]
  },
  {
   "cell_type": "code",
   "execution_count": 4,
   "metadata": {},
   "outputs": [],
   "source": [
    "from clients.expt_templates.nested import get_id_plates,\\\n",
    "    build_constituents, build_qpcr_datas\n",
    "\n",
    "id_plates = get_id_plates(expt_plates)\n",
    "constituents = {}\n",
    "results_data = {}\n",
    "for idp in id_plates:\n",
    "    constituents[idp] = build_constituents(expt_plates[idp], expt_plates)\n",
    "    results_data[idp] = build_qpcr_datas(constituents[idp],\n",
    "                                         raw_instrumemt_data[idp])"
   ]
  },
  {
   "cell_type": "code",
   "execution_count": 5,
   "metadata": {},
   "outputs": [
    {
     "data": {
      "text/plain": [
       "NestedIdWellConstituents([('assays',\n",
       "                           [{'concentration': 0.4,\n",
       "                             'reagent_category': 'assay',\n",
       "                             'reagent_name': 'Ca_rpb7_x.1_Cal04_Cal03',\n",
       "                             'unit': 'uM'}]),\n",
       "                          ('transferred_assays',\n",
       "                           [{'concentration': 1.0,\n",
       "                             'reagent_category': 'group assay',\n",
       "                             'reagent_name': 'poolE1',\n",
       "                             'unit': 'x'}]),\n",
       "                          ('templates', []),\n",
       "                          ('transferred_templates', []),\n",
       "                          ('human', []),\n",
       "                          ('transferred_human', [])])"
      ]
     },
     "execution_count": 5,
     "metadata": {},
     "output_type": "execute_result"
    }
   ],
   "source": [
    "plate_id = 'A81_E214_1_ID'\n",
    "constituents[plate_id]['A01']"
   ]
  },
  {
   "cell_type": "code",
   "execution_count": 6,
   "metadata": {},
   "outputs": [
    {
     "data": {
      "text/plain": [
       "NestedIdQpcrData([('Ct', 5.587069988250732),\n",
       "                  ('∆NTC_Ct', 0.0),\n",
       "                  ('Ct_Call', 'NEG'),\n",
       "                  ('Tm1', 79.1648941040039),\n",
       "                  ('Tm2', 74.78462219238281),\n",
       "                  ('Tm3', 62.46510314941406),\n",
       "                  ('Tm4', nan),\n",
       "                  ('Tm Specif', False),\n",
       "                  ('Tm NS', False),\n",
       "                  ('Tm PD', True)])"
      ]
     },
     "execution_count": 6,
     "metadata": {},
     "output_type": "execute_result"
    }
   ],
   "source": [
    "results_data[plate_id]['A01']"
   ]
  },
  {
   "cell_type": "code",
   "execution_count": null,
   "metadata": {},
   "outputs": [],
   "source": []
  }
 ],
 "metadata": {
  "kernelspec": {
   "display_name": "Python 3",
   "language": "python",
   "name": "python3"
  },
  "language_info": {
   "codemirror_mode": {
    "name": "ipython",
    "version": 3
   },
   "file_extension": ".py",
   "mimetype": "text/x-python",
   "name": "python",
   "nbconvert_exporter": "python",
   "pygments_lexer": "ipython3",
   "version": "3.5.4"
  }
 },
 "nbformat": 4,
 "nbformat_minor": 1
}
