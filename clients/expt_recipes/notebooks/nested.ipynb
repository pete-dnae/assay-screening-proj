{
 "cells": [
  {
   "cell_type": "code",
   "execution_count": 1,
   "metadata": {},
   "outputs": [],
   "source": [
    "from os import getcwd\n",
    "import os.path as op\n",
    "from glob import glob"
   ]
  },
  {
   "cell_type": "code",
   "execution_count": 2,
   "metadata": {},
   "outputs": [],
   "source": [
    "from clients.utils import create_allocation_table\n",
    "from hardware.plates import create_plates_from_allocation_table\n",
    "\n",
    "expt_name = 'A81_E214'\n",
    "allocation_table = create_allocation_table(expt_name)\n",
    "all_expt_plates = create_plates_from_allocation_table(allocation_table)"
   ]
  },
  {
   "cell_type": "code",
   "execution_count": 3,
   "metadata": {},
   "outputs": [
    {
     "name": "stderr",
     "output_type": "stream",
     "text": [
      "C:\\Users\\chris.icely\\AppData\\Local\\conda\\conda\\envs\\jupyter\\lib\\site-packages\\pandas\\core\\ops.py:816: FutureWarning: elementwise comparison failed; returning scalar instead, but in the future will perform elementwise comparison\n",
      "  result = getattr(x, name)(y)\n"
     ]
    }
   ],
   "source": [
    "from hardware.qpcr import QpcrDataFile\n",
    "\n",
    "id_qpcr_plate = 'A81_E214_1_ID'\n",
    "cwd = getcwd()\n",
    "nav_root = op.abspath(op.join(cwd, op.pardir,\n",
    "                              op.pardir, op.pardir))\n",
    "data_folder = op.join(nav_root, 'hardware', 'tests', 'data')\n",
    "f = op.join(data_folder, id_qpcr_plate + '.xls')\n",
    "\n",
    "qpcr_data = QpcrDataFile(f)\n",
    "raw_instrumemt_data = {id_qpcr_plate: qpcr_data.get_data_by_well()}"
   ]
  },
  {
   "cell_type": "code",
   "execution_count": 4,
   "metadata": {},
   "outputs": [],
   "source": [
    "from hardware.labchip import LabChip\n",
    "\n",
    "lc_plate = '20180103_A'\n",
    "fds = glob(op.join(data_folder, '*' + lc_plate + '*.csv'))\n",
    "\n",
    "files = {}\n",
    "for f in fds:\n",
    "    if 'PeakTable' in f:\n",
    "        files['peak_file'] = f\n",
    "    elif 'RawTable' in f:\n",
    "        files['raw_file'] = f\n",
    "    elif 'WellTable' in f:\n",
    "        \n",
    "        files['well_file'] = f\n",
    "lc = LabChip(**files)\n",
    "lc_data_plates = {lc_plate: lc.get_data_by_well()}"
   ]
  },
  {
   "cell_type": "code",
   "execution_count": 5,
   "metadata": {},
   "outputs": [],
   "source": [
    "from clients.expt_recipes.nested.model_builders import get_id_qpcr_plate_names,\\\n",
    "    build_id_qpcr_constituents, build_id_qpcr_datas\n",
    "\n",
    "from clients.expt_recipes.nested.model_builders import (get_labchip_plate_names,\n",
    "                                                        create_id_qpcr_lc_mapping,\n",
    "                                                        get_lc_dilutions)\n",
    "from clients.expt_recipes.nested.model_builders import get_lc_dilutions\n",
    "from clients.expt_recipes.nested.model_builders import build_labchip_results_by_id_well\n",
    "    \n",
    "assays = {'Ca_rpb7_x.1_Cal04_Cal03': 215,\n",
    "          'Cg_rps0_x.1_Cgl03_Cgl04': 217,\n",
    "          'Ab_pgaD_x.10_Aba38_Aba42': 225,\n",
    "          'Ec_uidA_x.2_Eco64_Eco66': 240}\n",
    "    \n",
    "id_qpcr_plates = get_id_qpcr_plate_names(all_expt_plates)\n",
    "lc_plates = get_labchip_plate_names(all_expt_plates)\n",
    "\n",
    "id_plate_constituents = {}\n",
    "id_plate_results = {}\n",
    "downstream_id_lc_results = {}\n",
    "for idp in id_qpcr_plates:\n",
    "    id_plate_constituents[idp] = build_id_qpcr_constituents(all_expt_plates[idp], all_expt_plates)\n",
    "    id_plate_results[idp] = build_id_qpcr_datas(id_plate_constituents[idp],\n",
    "                                             raw_instrumemt_data[idp])\n",
    "    for lcp in lc_plates:\n",
    "        mapping = create_id_qpcr_lc_mapping(all_expt_plates[lcp], lcp)\n",
    "        dilutions = get_lc_dilutions(all_expt_plates[lcp])\n",
    "        downstream_id_lc_results[idp] = build_labchip_results_by_id_well(\n",
    "            id_plate_constituents[idp], lc_data_plates[lcp],\n",
    "            mapping[idp], assays, dilutions)"
   ]
  },
  {
   "cell_type": "code",
   "execution_count": 6,
   "metadata": {},
   "outputs": [
    {
     "data": {
      "text/plain": [
       "NestedIdWellConstituents([('assays',\n",
       "                           [{'concentration': 0.4,\n",
       "                             'reagent_category': 'assay',\n",
       "                             'reagent_name': 'Ca_rpb7_x.1_Cal04_Cal03',\n",
       "                             'unit': 'uM'}]),\n",
       "                          ('transferred_assays',\n",
       "                           [{'concentration': 1.0,\n",
       "                             'reagent_category': 'group assay',\n",
       "                             'reagent_name': 'poolE1',\n",
       "                             'unit': 'x'}]),\n",
       "                          ('templates', []),\n",
       "                          ('transferred_templates', []),\n",
       "                          ('human', []),\n",
       "                          ('transferred_human', [])])"
      ]
     },
     "execution_count": 6,
     "metadata": {},
     "output_type": "execute_result"
    }
   ],
   "source": [
    "id_plate_constituents[id_qpcr_plate]['A01']"
   ]
  },
  {
   "cell_type": "code",
   "execution_count": 7,
   "metadata": {},
   "outputs": [
    {
     "data": {
      "text/plain": [
       "NestedIdQpcrData([('Ct', 5.587069988250732),\n",
       "                  ('∆NTC_Ct', 0.0),\n",
       "                  ('Ct_Call', 'NEG'),\n",
       "                  ('Tm1', 79.1648941040039),\n",
       "                  ('Tm2', 74.78462219238281),\n",
       "                  ('Tm3', 62.46510314941406),\n",
       "                  ('Tm4', nan),\n",
       "                  ('Tm Specif', False),\n",
       "                  ('Tm NS', False),\n",
       "                  ('Tm PD', True)])"
      ]
     },
     "execution_count": 7,
     "metadata": {},
     "output_type": "execute_result"
    }
   ],
   "source": [
    "id_plate_results[id_qpcr_plate]['A01']"
   ]
  },
  {
   "cell_type": "code",
   "execution_count": 8,
   "metadata": {},
   "outputs": [
    {
     "data": {
      "text/plain": [
       "NestedLabChipData([('Specif ng/ul', 0),\n",
       "                   ('NS ng/ul', 0),\n",
       "                   ('PD ng/ul', 11.519988986198639)])"
      ]
     },
     "execution_count": 8,
     "metadata": {},
     "output_type": "execute_result"
    }
   ],
   "source": [
    "downstream_id_lc_results[id_qpcr_plate]['A01']"
   ]
  },
  {
   "cell_type": "code",
   "execution_count": null,
   "metadata": {},
   "outputs": [],
   "source": []
  }
 ],
 "metadata": {
  "kernelspec": {
   "display_name": "Python 3",
   "language": "python",
   "name": "python3"
  },
  "language_info": {
   "codemirror_mode": {
    "name": "ipython",
    "version": 3
   },
   "file_extension": ".py",
   "mimetype": "text/x-python",
   "name": "python",
   "nbconvert_exporter": "python",
   "pygments_lexer": "ipython3",
   "version": "3.6.4"
  }
 },
 "nbformat": 4,
 "nbformat_minor": 1
}
