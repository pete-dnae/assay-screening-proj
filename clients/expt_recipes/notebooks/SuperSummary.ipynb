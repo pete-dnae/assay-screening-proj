{
 "cells": [
  {
   "cell_type": "code",
   "execution_count": 24,
   "metadata": {},
   "outputs": [],
   "source": [
    "import urllib.request, json \n",
    "import requests\n",
    "import pandas as pd\n"
   ]
  },
  {
   "cell_type": "code",
   "execution_count": 25,
   "metadata": {},
   "outputs": [],
   "source": [
    "with urllib.request.urlopen(\"https://assay-screening.herokuapp.com/api/well-aggregate/\") as url:\n",
    "    well_by_id_assay = json.loads(url.read().decode())\n",
    "    master_table = []\n",
    "    summary_table = []\n",
    "for record in well_by_id_assay:\n",
    "    experiment_id = record['experiment_id']\n",
    "    qpcr_plate_id = record['qpcr_plate_id']\n",
    "    wells =json.dumps(record['wells'].split(\",\"))    \n",
    "    _url = \"https://assay-screening.herokuapp.com/api/well-results/?expt=%s&plate_id=%s&wells=%s\"%(experiment_id,qpcr_plate_id,wells)    \n",
    "    response =json.loads(requests.get(_url).text)\n",
    "    master_table = master_table + response['master_table']\n",
    "    summary_table = summary_table +response['summary_table']"
   ]
  },
  {
   "cell_type": "code",
   "execution_count": 66,
   "metadata": {},
   "outputs": [],
   "source": [
    "def dataframe_list_to_string(df):\n",
    "    list_cols = ['ID Assay Conc.','ID Assay Name','ID Human Conc.','ID Human Name',\n",
    "               'ID Template Conc.','ID Template Name','PA Assay Conc.','PA Assay Name',\n",
    "               'PA Human Conc.','PA Human Name','PA Template Conc.','PA Template Name']\n",
    "    for column in list_cols:\n",
    "            df[column] = df[column].apply(list_to_string)\n",
    "    return df"
   ]
  },
  {
   "cell_type": "code",
   "execution_count": 67,
   "metadata": {},
   "outputs": [],
   "source": [
    "def list_to_string(value):\n",
    "    if not isinstance(value,float):\n",
    "        return \"\".join(str(e) for e in value)\n",
    "    return None"
   ]
  },
  {
   "cell_type": "code",
   "execution_count": 46,
   "metadata": {},
   "outputs": [],
   "source": [
    "def find_sample(row):    \n",
    "    name = ''\n",
    "    if row['ID Template Conc.']:\n",
    "        name += '%s cp '%row['ID Template Conc.']\n",
    "    if row['ID Human Conc.']:\n",
    "        name += '%s ng HgDNA '%row['ID Human Conc.']\n",
    "    if row['PA Template Conc.']:\n",
    "        name += 'PA %s cp '%row['PA Template Conc.']\n",
    "    if row['PA Human Conc.']:\n",
    "        if 'PA' not in name:\n",
    "            name += 'PA %s ng HgDNA '%row['PA Human Conc.']\n",
    "        else:\n",
    "            name += '%s ng HgDNA '%row['PA Human Conc.']\n",
    "    if name =='':\n",
    "        name = 'NTC'\n",
    "    return name\n",
    "    "
   ]
  },
  {
   "cell_type": "code",
   "execution_count": 33,
   "metadata": {},
   "outputs": [],
   "source": [
    "master_df = dataframe_list_to_string(pd.DataFrame(master_table))"
   ]
  },
  {
   "cell_type": "code",
   "execution_count": 139,
   "metadata": {},
   "outputs": [],
   "source": [
    "summary_df = dataframe_list_to_string(pd.DataFrame(summary_table))"
   ]
  },
  {
   "cell_type": "code",
   "execution_count": 35,
   "metadata": {},
   "outputs": [],
   "source": [
    "master_df[['qPCR Plate','qPCR Well','LC Plate','LC Well','ID Assay Name','ID Template Name',\n",
    "    'ID Template Conc.','ID Human Conc.','PA Assay Name','PA Template Name',\n",
    "    'PA Template Conc.','PA Human Conc.','Ct','Ct Call','Tm1', 'Tm2', 'Tm3', 'Tm4','Tm Specif','Tm NS',\n",
    "    'Tm PD']].to_csv('master.csv')"
   ]
  },
  {
   "cell_type": "code",
   "execution_count": 37,
   "metadata": {},
   "outputs": [],
   "source": [
    "summary_df[['qPCR Plate','LC Plate','ID Assay Name','ID Template Name',\n",
    "    'ID Template Conc.','ID Human Conc.','PA Assay Name','PA Template Name',\n",
    "    'PA Template Conc.','PA Human Conc.','Reps', 'Max Ct','Min Ct','Mean Ct',\n",
    "    'Mean ∆NTC Ct','#Ct Pos', 'Max Tm1','Min Tm1','Mean Tm1','#Tm Specif','#Tm NS', '#Tm PD',\n",
    "   'Mean Specif ng/ul','Mean NS ng/ul', 'Mean PD ng/ul']].to_csv('summary.csv')"
   ]
  },
  {
   "cell_type": "code",
   "execution_count": 140,
   "metadata": {},
   "outputs": [],
   "source": [
    "summary_df['sample'] = summary_df.apply(find_sample,axis=1)"
   ]
  },
  {
   "cell_type": "code",
   "execution_count": 147,
   "metadata": {},
   "outputs": [],
   "source": [
    "rows = ['NTC','50.0 cp ','5000.0 cp ','500.0 cp ','10.0 cp ','1000.0 cp ',\n",
    "             '50.0 ng HgDNA ','100.0 cp ','10000.0 cp ','500.0 ng HgDNA ']\n",
    "ind = ['Expt','qPCR Plate','Reps']\n",
    "dep = ['#Ct Pos', '#Tm Specif', '#Tm PD', '#Tm NS', 'Mean Ct', 'Min Ct',\n",
    "           'Max Ct', 'Min Tm1', 'Max Tm1', 'Mean Specif ng/ul','Mean NS ng/ul', 'Mean PD ng/ul'] \n",
    "\n",
    "def summary_by_sample(df,rows,ind,dep):\n",
    "\n",
    "    df = df[df['qPCR Plate']!='A81_E214_1_ID'] \n",
    "\n",
    "    frames = []\n",
    "# ['Expt','plate_id','Group','templates']\n",
    "    for n, grp in df.groupby(['qPCR Plate','ID Assay Name','ID Template Name']):    \n",
    "        a = pd.DataFrame(grp.set_index('sample').loc[rows].stack())\n",
    "        a = a.sort_index(level=[0, 1])\n",
    "        a = a.sort_index()\n",
    "        b = a.loc[idx['NTC', ind], :]\n",
    "        b.index = pd.MultiIndex.from_product([['Common'], b.index.get_level_values(1)])\n",
    "        c = a.loc[idx[:, dep], :]\n",
    "\n",
    "        df = pd.concat([b, c])\n",
    "        df.columns = pd.MultiIndex.from_tuples([n])\n",
    "        #df = df.rename(columns={0: n[2]})\n",
    "        frames.append(df)\n",
    "    return frames"
   ]
  },
  {
   "cell_type": "code",
   "execution_count": 148,
   "metadata": {},
   "outputs": [],
   "source": [
    "def removeErrFrames(frames):\n",
    "    expt_list=[]\n",
    "    new_df=frames[0].T\n",
    "    new_df=new_df.drop(new_df.index[0])\n",
    "    for i in range(1,len(frames)):         \n",
    "        try:\n",
    "            new_df=new_df.append(frames[i].T)\n",
    "        except:\n",
    "            expt_list.append(i)\n",
    "    for index in sorted(expt_list, reverse=True):\n",
    "        print(frames[index])\n",
    "        del frames[index]\n",
    "    return frames\n",
    "    \n"
   ]
  },
  {
   "cell_type": "code",
   "execution_count": 149,
   "metadata": {},
   "outputs": [
    {
     "name": "stderr",
     "output_type": "stream",
     "text": [
      "c:\\users\\prasanna.gnanaraj\\appdata\\local\\programs\\python\\python36\\lib\\site-packages\\ipykernel_launcher.py:16: FutureWarning: \n",
      "Passing list-likes to .loc or [] with any missing label will raise\n",
      "KeyError in the future, you can use .reindex() as an alternative.\n",
      "\n",
      "See the documentation here:\n",
      "http://pandas.pydata.org/pandas-docs/stable/indexing.html#deprecate-loc-reindex-listlike\n",
      "  app.launch_new_instance()\n"
     ]
    }
   ],
   "source": [
    "frames=removeErrFrames(summary_by_sample(summary_df,rows,ind,dep))\n",
    "frames_df = pd.concat(frames, axis=1).reindex(rows, level=0)\n",
    "frames_df = frames_df.sort_index().T"
   ]
  },
  {
   "cell_type": "code",
   "execution_count": 150,
   "metadata": {},
   "outputs": [],
   "source": [
    "frames_df = frames_df.sort_index(axis=1, level=[0, 1])"
   ]
  },
  {
   "cell_type": "code",
   "execution_count": 151,
   "metadata": {},
   "outputs": [],
   "source": [
    "frames_df.to_csv('group_by_columns.csv')"
   ]
  },
  {
   "cell_type": "code",
   "execution_count": null,
   "metadata": {},
   "outputs": [],
   "source": []
  }
 ],
 "metadata": {
  "kernelspec": {
   "display_name": "Python 3",
   "language": "python",
   "name": "python3"
  },
  "language_info": {
   "codemirror_mode": {
    "name": "ipython",
    "version": 3
   },
   "file_extension": ".py",
   "mimetype": "text/x-python",
   "name": "python",
   "nbconvert_exporter": "python",
   "pygments_lexer": "ipython3",
   "version": "3.6.4"
  }
 },
 "nbformat": 4,
 "nbformat_minor": 2
}
