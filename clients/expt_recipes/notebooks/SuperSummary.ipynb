{
 "cells": [
  {
   "cell_type": "code",
   "execution_count": 2,
   "metadata": {},
   "outputs": [],
   "source": [
    "import urllib.request, json \n",
    "import requests\n",
    "import pandas as pd\n",
    "import numpy as np\n",
    "from scipy.stats import linregress\n",
    "import psycopg2"
   ]
  },
  {
   "cell_type": "code",
   "execution_count": 3,
   "metadata": {},
   "outputs": [],
   "source": [
    "try:\n",
    "    connect_str = \"dbname='d831qh80eusrfh' user='nsuzweabkeyhdi' host='ec2-54-247-117-145.eu-west-1.compute.amazonaws.com' \" + \\\n",
    "                  \"password='db6fda2fb0ad1826fbc32e0921a789ca0b1b9a6fc52d59a16b11571c6bb69674'\"\n",
    "    # use our connection values to establish a connection\n",
    "    conn = psycopg2.connect(connect_str)\n",
    "    # create a psycopg2 cursor that can execute queries\n",
    "    cursor = conn.cursor()\n",
    "    # run a SELECT statement - no data in there, but we can try it\n",
    "    cursor.execute(\"\"\"select experiment_id,qpcr_plate_id,(case when col_num='01' or col_num='02'  then 'a'\n",
    "\t\t   when col_num='03' or col_num='04'  then 'b'\n",
    "\t\t   when col_num='05' or col_num='06'  then 'c'\n",
    "\t\t   when col_num='07' or col_num='08'  then 'd'\n",
    "\t\t   when col_num='09' or col_num='10'  then 'e'\n",
    "\t\t   when col_num='11' or col_num='12'  then 'f'\n",
    "\t\t  end) as colgrp,ARRAY_AGG(DISTINCT qpcr_well) as wells from (select *,substring(qpcr_well,2,2) as col_num from app_qpcrresultsmodel) as temp group by experiment_id,qpcr_plate_id,colgrp\"\"\")\n",
    "    well_by_id_assay = cursor.fetchall()\n",
    "except Exception as e:\n",
    "    print(\"Uh oh, can't connect. Invalid dbname, user or password?\")\n",
    "    print(e)"
   ]
  },
  {
   "cell_type": "code",
   "execution_count": 4,
   "metadata": {},
   "outputs": [],
   "source": [
    "rows = ['NTC','50.0 cp ','5000.0 cp ','500.0 cp ','10.0 cp ','1000.0 cp ',\n",
    "         '50.0 ng HgDNA ','100.0 cp ','10000.0 cp ','500.0 ng HgDNA ']\n",
    "ind = ['Expt','qPCR Plate','Reps']\n",
    "dep = ['ID Template Name','#Ct Pos','#Ct Valid', '#Tm Specif', '#Tm PD', '#Tm NS', 'Mean Ct', 'Min Ct',\n",
    "       'Max Ct', 'Min Tm1', 'Max Tm1','Specif ng/ul Pos', 'Mean Specif ng/ul','Mean NS ng/ul', 'Mean PD ng/ul'] "
   ]
  },
  {
   "cell_type": "code",
   "execution_count": 5,
   "metadata": {},
   "outputs": [],
   "source": [
    "def list_to_string(value):\n",
    "    if not isinstance(value,float):\n",
    "        return \"\".join(str(e) for e in value)\n",
    "    return None"
   ]
  },
  {
   "cell_type": "code",
   "execution_count": 6,
   "metadata": {},
   "outputs": [],
   "source": [
    "def dataframe_list_to_string(df):\n",
    "    list_cols = ['ID Assay Conc.','ID Assay Name','ID Human Conc.','ID Human Name',\n",
    "               'ID Template Conc.','ID Template Name','PA Assay Conc.','PA Assay Name',\n",
    "               'PA Human Conc.','PA Human Name','PA Template Conc.','PA Template Name']\n",
    "    for column in list_cols:\n",
    "        if column in df.columns:\n",
    "            df[column] = df[column].apply(list_to_string)\n",
    "    return df"
   ]
  },
  {
   "cell_type": "code",
   "execution_count": 7,
   "metadata": {},
   "outputs": [],
   "source": [
    "def find_sample(row):    \n",
    "    name = ''\n",
    "    if row['ID Template Conc.']:\n",
    "        name += '%s cp '%row['ID Template Conc.']\n",
    "    if row['ID Human Conc.']:\n",
    "        name += '%s ng HgDNA '%row['ID Human Conc.']\n",
    "    if 'PA Template Conc.'in row and row['PA Template Conc.']:\n",
    "        name += 'PA %s cp '%row['PA Template Conc.']\n",
    "    if 'PA Human Conc.' in row and row['PA Human Conc.']:\n",
    "        if 'PA' not in name:\n",
    "            name += 'PA %s ng HgDNA '%row['PA Human Conc.']\n",
    "        else:\n",
    "            name += '%s ng HgDNA '%row['PA Human Conc.']\n",
    "    if name =='':\n",
    "        name = 'NTC'\n",
    "    return name\n",
    "    "
   ]
  },
  {
   "cell_type": "code",
   "execution_count": 8,
   "metadata": {},
   "outputs": [],
   "source": [
    "def get_master_summary_data(experiments,well_by_id_assay):\n",
    "    master_table = []\n",
    "    summary_table = []\n",
    "    for (experiment_id,qpcr_plate_id,grp,wells) in well_by_id_assay:        \n",
    "#         experiment_id = record['experiment_id']\n",
    "#         qpcr_plate_id = record['qpcr_plate_id']\n",
    "        if experiment_id in experiments:\n",
    "#             wells =json.dumps(record['wells'].split(\",\"))    \n",
    "            _url = \"https://assay-screening.herokuapp.com/api/well-results/?expt={}&plate_id={}&wells={}\".format(experiment_id,qpcr_plate_id,wells)\n",
    "            response =json.loads(requests.get(_url).text)\n",
    "            master_table = master_table + response['master_table']\n",
    "            summary_table = summary_table + response['summary_table']\n",
    "    return master_table,summary_table"
   ]
  },
  {
   "cell_type": "code",
   "execution_count": 9,
   "metadata": {},
   "outputs": [],
   "source": [
    "def save_master_table(df):\n",
    "    possible_cols = ['qPCR Plate','qPCR Well','LC Plate','LC Well','ID Assay Name','ID Template Name',\n",
    "    'ID Template Conc.','ID Human Conc.','PA Assay Name','PA Template Name',\n",
    "    'PA Template Conc.','PA Human Conc.','Ct','Ct Call','Tm1', 'Tm2', 'Tm3', 'Tm4','Tm Specif','Tm NS',\n",
    "    'Tm PD']\n",
    "    cols_in_db = [col for col in possible_cols if col in df.columns]\n",
    "    df[cols_in_db].to_csv('master.csv')"
   ]
  },
  {
   "cell_type": "code",
   "execution_count": 10,
   "metadata": {},
   "outputs": [],
   "source": [
    "def calc_eff(row):\n",
    "    try:                \n",
    "        expected_cols = ['50.0 cp ','5000.0 cp ','500.0 cp ','10.0 cp ','100.0 cp ','1000.0 cp ','10000.0 cp ']\n",
    "        cols = list(filter(lambda x : (x,'Mean Ct') in row.index ,expected_cols))        \n",
    "        idx = pd.IndexSlice\n",
    "        y = np.array([float(n) for n in row.loc[idx[cols, 'Mean Ct']].values])\n",
    "        x = np.log10([float(n.split()[0]) for n in cols])               \n",
    "        mask = ~np.isnan(x) & ~np.isnan(y)        \n",
    "        \n",
    "        lin_fit = linregress(x[mask], y[mask])\n",
    "        eff = (10**(-1 / lin_fit.slope) - 1) * 100\n",
    "    except ValueError as ve:        \n",
    "        eff = 0\n",
    "        \n",
    "    return eff\n",
    "\n",
    "def calc_r2(row):\n",
    "    try:        \n",
    "        expected_cols = ['50.0 cp ','5000.0 cp ','500.0 cp ','10.0 cp ','100.0 cp ','1000.0 cp ','10000.0 cp ']\n",
    "        cols = list(filter(lambda x : (x,'Mean Ct') in row.index ,expected_cols))\n",
    "        idx = pd.IndexSlice\n",
    "        row = row.sort_index()\n",
    "        y = np.array([float(n) for n in row.loc[idx[cols, 'Mean Ct']].values])\n",
    "        x = np.log10([float(n.split()[0]) for n in cols])\n",
    "        \n",
    "        mask = ~np.isnan(x) & ~np.isnan(y)\n",
    "        \n",
    "        slope, intercept, r_value, p_value, std_err = linregress(x[mask], y[mask])\n",
    "        r2 = r_value**2\n",
    "    except ValueError as ve:\n",
    "        r2 = np.nan\n",
    "        \n",
    "    return r2\n",
    "\n",
    "def removeErrFrames(frames):\n",
    "    expt_list=[]\n",
    "    new_df=frames[0].T\n",
    "    new_df=new_df.drop(new_df.index[0])\n",
    "    for i in range(1,len(frames)):         \n",
    "        try:\n",
    "            new_df=new_df.append(frames[i].T)\n",
    "        except:\n",
    "            expt_list.append(i)\n",
    "    for index in sorted(expt_list, reverse=True):\n",
    "        print(frames[index])\n",
    "        del frames[index]\n",
    "    return frames\n",
    "    "
   ]
  },
  {
   "cell_type": "code",
   "execution_count": 11,
   "metadata": {},
   "outputs": [],
   "source": [
    "def get_summary_by_sample(df,rows,ind,dep):\n",
    "    idx = pd.IndexSlice\n",
    "#     df = df[df['qPCR Plate']!='A81_E214_1_ID'] \n",
    "    frames = []    \n",
    "# ['Expt','plate_id','Group','templates']\n",
    "    for n, grp in df.groupby(['qPCR Plate','ID Assay Name']):    \n",
    "        a = pd.DataFrame(grp.set_index('sample').loc[rows].stack())\n",
    "        a = a.sort_index(level=[0, 1])\n",
    "        a = a.sort_index()\n",
    "        b = a.loc[idx['NTC', ind], :]\n",
    "        b.index = pd.MultiIndex.from_product([['Common'], b.index.get_level_values(1)])\n",
    "        c = a.loc[idx[:, dep], :]\n",
    "\n",
    "        df = pd.concat([b, c])\n",
    "        df.columns = pd.MultiIndex.from_tuples([n])\n",
    "        #df = df.rename(columns={0: n[2]})\n",
    "        frames.append(df)\n",
    "    return frames"
   ]
  },
  {
   "cell_type": "code",
   "execution_count": 12,
   "metadata": {},
   "outputs": [],
   "source": [
    "def calculate_eff_r2(df,rows):\n",
    "    frames=removeErrFrames(df)\n",
    "    frames_df = pd.concat(frames, axis=1).reindex(rows, level=0)\n",
    "    frames_df = frames_df.sort_index().T\n",
    "    frames_df[('Common', 'Efficiency')] = frames_df.apply(calc_eff, axis=1)\n",
    "    frames_df[('Common', 'R Squared')] = frames_df.apply(calc_r2,axis=1)\n",
    "    return frames_df"
   ]
  },
  {
   "cell_type": "code",
   "execution_count": 12,
   "metadata": {},
   "outputs": [],
   "source": [
    "def get_summary(experiments,rows,ind,dep,well_by_id_assay):\n",
    "#     with urllib.request.urlopen(\"https://assay-screening.herokuapp.com/api/well-aggregate/\") as url:\n",
    "#         well_by_id_assay = json.loads(url.read().decode())\n",
    "    master_table,summary_table = get_master_summary_data(experiments,well_by_id_assay)\n",
    "    master_df = dataframe_list_to_string(pd.DataFrame(master_table))\n",
    "    summary_df = dataframe_list_to_string(pd.DataFrame(summary_table))\n",
    "    summary_df['sample'] = summary_df.apply(find_sample,axis=1)\n",
    "    save_master_table(master_df)\n",
    "    summary_by_sample=get_summary_by_sample(summary_df,rows,ind,dep)\n",
    "    summary_with_eff_r2 = calculate_eff_r2(summary_by_sample,rows)\n",
    "    summary_with_eff_r2 = summary_with_eff_r2.sort_index(axis=1, level=[0, 1])\n",
    "    summary_with_eff_r2.to_csv('group_by_columns.csv')\n",
    "    return summary_with_eff_r2"
   ]
  },
  {
   "cell_type": "code",
   "execution_count": 1,
   "metadata": {},
   "outputs": [],
   "source": [
    "experiments = ['A81_E303', 'A81_E307', 'A81_E311', 'A81_E312', 'A81_E316', 'A81_E317', 'A81_E318',\n",
    "               'A81_E321', 'A81_E323', 'A81_E325', 'A81_E326', 'A81_E329']\n",
    "\n",
    "get_summary(experiments,rows,ind,dep,well_by_id_assay)"
   ]
  }
 ],
 "metadata": {
  "kernelspec": {
   "display_name": "Python 3",
   "language": "python",
   "name": "python3"
  },
  "language_info": {
   "codemirror_mode": {
    "name": "ipython",
    "version": 3
   },
   "file_extension": ".py",
   "mimetype": "text/x-python",
   "name": "python",
   "nbconvert_exporter": "python",
   "pygments_lexer": "ipython3",
   "version": "3.6.4"
  }
 },
 "nbformat": 4,
 "nbformat_minor": 2
}
