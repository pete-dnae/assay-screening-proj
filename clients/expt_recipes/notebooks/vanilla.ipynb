{
 "cells": [
  {
   "cell_type": "code",
   "execution_count": null,
   "metadata": {},
   "outputs": [],
   "source": [
    "from os import getcwd\n",
    "import os.path as op\n",
    "from glob import glob"
   ]
  },
  {
   "cell_type": "code",
   "execution_count": null,
   "metadata": {},
   "outputs": [],
   "source": [
    "from clients.utils import create_allocation_table\n",
    "from clients.expt_recipes.db_query import create_plates_from_allocation_table\n",
    "\n",
    "expt_name = 'A81_E217'\n",
    "allocation_table = create_allocation_table(expt_name)\n",
    "expt_plates = create_plates_from_allocation_table(allocation_table)"
   ]
  },
  {
   "cell_type": "code",
   "execution_count": null,
   "metadata": {},
   "outputs": [],
   "source": [
    "from hardware.qpcr import QpcrDataFile\n",
    "\n",
    "id_qpcr_plate = 'A81_E217_1'\n",
    "cwd = getcwd()\n",
    "nav_root = op.abspath(op.join(cwd, op.pardir))\n",
    "data_folder = op.join(nav_root, 'vanilla', 'tests', 'data')\n",
    "f = op.join(data_folder, id_qpcr_plate + '.xls')\n",
    "\n",
    "qpcr_data = QpcrDataFile(f)\n",
    "id_qpcr_inst_plate = qpcr_data.get_data_by_well()"
   ]
  },
  {
   "cell_type": "code",
   "execution_count": null,
   "metadata": {},
   "outputs": [],
   "source": [
    "from hardware.labchip import LabChip\n",
    "\n",
    "lc_plate = '20180103_B'\n",
    "fds = glob(op.join(data_folder, '*' + lc_plate + '*.csv'))\n",
    "\n",
    "files = {}\n",
    "for f in fds:\n",
    "    if 'PeakTable' in f:\n",
    "        files['peak_file'] = f\n",
    "    elif 'RawTable' in f:\n",
    "        files['raw_file'] = f\n",
    "    elif 'WellTable' in f:\n",
    "        \n",
    "        files['well_file'] = f\n",
    "lc = LabChip(**files)\n",
    "lc_inst_plate = lc.get_data_by_well()"
   ]
  },
  {
   "cell_type": "code",
   "execution_count": null,
   "metadata": {},
   "outputs": [],
   "source": [
    "from clients.expt_recipes.db_query import get_assay_amplicon_length\n",
    "from clients.expt_recipes.vanilla.model_builders import build_qpcr_constituents\n",
    "from clients.expt_recipes.lost import build_labchip_datas_from_inst_data\n",
    "from clients.expt_recipes.vanilla.constituents import IdConstituents\n",
    "from clients.expt_recipes.vanilla.model_builders import (build_id_qpcr_datas_from_inst_data,\n",
    "                                                         get_wells_by_id_assay)\n",
    "from clients.expt_recipes.db_query import create_qpcr_lc_mapping, get_lc_dilutions\n",
    "from clients.expt_recipes.vanilla.models import VanillaMasterTable"
   ]
  },
  {
   "cell_type": "code",
   "execution_count": null,
   "metadata": {},
   "outputs": [],
   "source": [
    "%%time\n",
    "id_plate_constituents = build_qpcr_constituents(expt_plates[id_qpcr_plate])\n",
    "\n",
    "wells_by_id_assay = get_wells_by_id_assay(id_plate_constituents)\n",
    "\n",
    "id_qpcr_datas = build_id_qpcr_datas_from_inst_data(id_plate_constituents, id_qpcr_inst_plate)"
   ]
  },
  {
   "cell_type": "code",
   "execution_count": null,
   "metadata": {},
   "outputs": [],
   "source": [
    "%%time\n",
    "\n",
    "assays = {}\n",
    "for assay in wells_by_id_assay:\n",
    "    for a in assay:\n",
    "        assays[a] = int(get_assay_amplicon_length(a))\n",
    "\n",
    "mapping = create_qpcr_lc_mapping(expt_plates[lc_plate])\n",
    "dilutions = get_lc_dilutions(expt_plates[lc_plate])\n",
    "lc_datas = build_labchip_datas_from_inst_data(\n",
    "    id_plate_constituents, lc_inst_plate, mapping, assays, dilutions)"
   ]
  },
  {
   "cell_type": "code",
   "execution_count": null,
   "metadata": {
    "scrolled": true
   },
   "outputs": [],
   "source": [
    "%%time\n",
    "qwells = wells_by_id_assay[('Kp_KPC_5.x_KPC19_KPC24',)]\n",
    "lcwells = []\n",
    "for qw in qwells:\n",
    "    if qw in mapping:\n",
    "        lcwells.append(mapping[qw])\n",
    "    else:\n",
    "        lcwells.append(None)\n",
    "\n",
    "nmt = VanillaMasterTable.create_from_models(qwells,\n",
    "                                           id_qpcr_plate,\n",
    "                                           lcwells,\n",
    "                                           lc_plate,\n",
    "                                           id_plate_constituents,\n",
    "                                           id_qpcr_datas,\n",
    "                                           lc_datas)"
   ]
  },
  {
   "cell_type": "code",
   "execution_count": null,
   "metadata": {},
   "outputs": [],
   "source": [
    "nmt.rows[0]"
   ]
  },
  {
   "cell_type": "code",
   "execution_count": null,
   "metadata": {},
   "outputs": [],
   "source": [
    "import pandas as pd\n",
    "df = pd.DataFrame(nmt.rows)\n",
    "df.loc[:, ['qPCR Well', 'Ct', '∆NTC Ct', 'Ct Call', 'Tm Specif','Tm NS', 'Tm PD']]"
   ]
  },
  {
   "cell_type": "code",
   "execution_count": null,
   "metadata": {},
   "outputs": [],
   "source": [
    "grps = {}\n",
    "\n",
    "for r in nmt.rows:\n",
    "    grp_key = (r['ID Template Name'], r['ID Template Conc.'],\n",
    "               r['ID Human Name'], r['ID Human Conc.'])\n",
    "    grps.setdefault(grp_key, []).append(r)"
   ]
  },
  {
   "cell_type": "code",
   "execution_count": null,
   "metadata": {},
   "outputs": [],
   "source": [
    "from clients.expt_recipes.vanilla.models import VanillaSummaryRow"
   ]
  },
  {
   "cell_type": "code",
   "execution_count": null,
   "metadata": {},
   "outputs": [],
   "source": [
    "VanillaSummaryRow.create_from_master_table_rows(\n",
    "    grps[(('K.pneumoniae-KPC_1705',), (100.0,), (), ())])"
   ]
  },
  {
   "cell_type": "code",
   "execution_count": null,
   "metadata": {},
   "outputs": [],
   "source": []
  }
 ],
 "metadata": {
  "kernelspec": {
   "display_name": "Python 3",
   "language": "python",
   "name": "python3"
  },
  "language_info": {
   "codemirror_mode": {
    "name": "ipython",
    "version": 3
   },
   "file_extension": ".py",
   "mimetype": "text/x-python",
   "name": "python",
   "nbconvert_exporter": "python",
   "pygments_lexer": "ipython3",
   "version": "3.5.4"
  }
 },
 "nbformat": 4,
 "nbformat_minor": 2
}
