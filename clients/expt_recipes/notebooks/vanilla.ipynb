{
 "cells": [
  {
   "cell_type": "code",
   "execution_count": null,
   "metadata": {},
   "outputs": [],
   "source": [
    "from os import getcwd\n",
    "import os.path as op\n",
    "from glob import glob"
   ]
  },
  {
   "cell_type": "code",
   "execution_count": null,
   "metadata": {},
   "outputs": [],
   "source": [
    "from clients.utils import create_allocation_table\n",
    "from hardware.plates import create_plates_from_allocation_table\n",
    "\n",
    "expt_name = 'A81_E217'\n",
    "allocation_table = create_allocation_table(expt_name)\n",
    "expt_plates = create_plates_from_allocation_table(allocation_table)"
   ]
  },
  {
   "cell_type": "code",
   "execution_count": null,
   "metadata": {},
   "outputs": [],
   "source": [
    "from hardware.qpcr import QpcrDataFile\n",
    "\n",
    "id_qpcr_plate = 'A81_E217_1'\n",
    "cwd = getcwd()\n",
    "nav_root = op.abspath(op.join(cwd, op.pardir))\n",
    "data_folder = op.join(nav_root, 'vanilla', 'tests', 'data')\n",
    "f = op.join(data_folder, id_qpcr_plate + '.xls')\n",
    "\n",
    "qpcr_data = QpcrDataFile(f)\n",
    "id_qpcr_inst_plate = qpcr_data.get_data_by_well()"
   ]
  },
  {
   "cell_type": "code",
   "execution_count": null,
   "metadata": {},
   "outputs": [],
   "source": [
    "from hardware.labchip import LabChip\n",
    "\n",
    "lc_plate = '20180103_B'\n",
    "fds = glob(op.join(data_folder, '*' + lc_plate + '*.csv'))\n",
    "\n",
    "files = {}\n",
    "for f in fds:\n",
    "    if 'PeakTable' in f:\n",
    "        files['peak_file'] = f\n",
    "    elif 'RawTable' in f:\n",
    "        files['raw_file'] = f\n",
    "    elif 'WellTable' in f:\n",
    "        \n",
    "        files['well_file'] = f\n",
    "lc = LabChip(**files)\n",
    "lc_inst_plate = lc.get_data_by_well()"
   ]
  },
  {
   "cell_type": "code",
   "execution_count": null,
   "metadata": {},
   "outputs": [],
   "source": [
    "from clients.expt_recipes.common.model_builders import (build_id_qpcr_constituents,\n",
    "                                                        build_labchip_datas_from_inst_data)\n",
    "from clients.expt_recipes.vanilla.models import IdConstituents\n",
    "from clients.expt_recipes.vanilla.model_builders import (build_id_qpcr_datas_from_inst_data,\n",
    "                                                         create_vanilla_groupings,\n",
    "                                                         get_wells_by_id_assay)\n",
    "from clients.expt_recipes.common.utils import create_id_qpcr_lc_mapping, get_lc_dilutions\n",
    "# from clients.expt_recipes.nested.utils import (get_id_qpcr_plate_names,\n",
    "#                                                get_labchip_plate_names,\n",
    "#                                                create_id_qpcr_lc_mapping)\n",
    "# from clients.expt_recipes.nested.models import NestedMasterTable"
   ]
  },
  {
   "cell_type": "code",
   "execution_count": null,
   "metadata": {},
   "outputs": [],
   "source": [
    "%%time\n",
    "id_plate_constituents = build_id_qpcr_constituents(\n",
    "    expt_plates[id_qpcr_plate], expt_plates, IdConstituents)\n",
    "\n",
    "wells_by_id_assay = get_wells_by_id_assay(id_plate_constituents)\n",
    "\n",
    "id_qpcr_datas = build_id_qpcr_datas_from_inst_data(id_plate_constituents,\n",
    "                                                   id_qpcr_inst_plate)"
   ]
  },
  {
   "cell_type": "code",
   "execution_count": null,
   "metadata": {},
   "outputs": [],
   "source": [
    "%%time\n",
    "mapping = create_id_qpcr_lc_mapping(expt_plates[lc_plate])\n",
    "dilutions = get_lc_dilutions(expt_plates[lc_plate])\n",
    "lc_datas = build_labchip_datas_from_inst_data(\n",
    "    id_plate_constituents, lc_inst_plate, mapping, assays, dilutions)"
   ]
  },
  {
   "cell_type": "code",
   "execution_count": null,
   "metadata": {},
   "outputs": [],
   "source": []
  }
 ],
 "metadata": {
  "kernelspec": {
   "display_name": "Python 3",
   "language": "python",
   "name": "python3"
  },
  "language_info": {
   "codemirror_mode": {
    "name": "ipython",
    "version": 3
   },
   "file_extension": ".py",
   "mimetype": "text/x-python",
   "name": "python",
   "nbconvert_exporter": "python",
   "pygments_lexer": "ipython3",
   "version": "3.5.4"
  }
 },
 "nbformat": 4,
 "nbformat_minor": 2
}
