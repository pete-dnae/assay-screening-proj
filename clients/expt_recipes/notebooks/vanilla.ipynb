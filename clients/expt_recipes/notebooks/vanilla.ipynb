{
 "cells": [
  {
   "cell_type": "code",
   "execution_count": 1,
   "metadata": {},
   "outputs": [],
   "source": [
    "from os import getcwd\n",
    "import os.path as op\n",
    "from glob import glob"
   ]
  },
  {
   "cell_type": "code",
   "execution_count": 2,
   "metadata": {},
   "outputs": [],
   "source": [
    "from clients.utils import create_allocation_table\n",
    "from hardware.plates import create_plates_from_allocation_table\n",
    "\n",
    "expt_name = 'A81_E217'\n",
    "allocation_table = create_allocation_table(expt_name)\n",
    "expt_plates = create_plates_from_allocation_table(allocation_table)"
   ]
  },
  {
   "cell_type": "code",
   "execution_count": 3,
   "metadata": {},
   "outputs": [
    {
     "name": "stderr",
     "output_type": "stream",
     "text": [
      "C:\\Users\\chris.icely\\AppData\\Local\\conda\\conda\\envs\\jupyter\\lib\\site-packages\\pandas\\core\\ops.py:816: FutureWarning: elementwise comparison failed; returning scalar instead, but in the future will perform elementwise comparison\n",
      "  result = getattr(x, name)(y)\n"
     ]
    }
   ],
   "source": [
    "from hardware.qpcr import QpcrDataFile\n",
    "\n",
    "id_qpcr_plate = 'A81_E217_1'\n",
    "cwd = getcwd()\n",
    "nav_root = op.abspath(op.join(cwd, op.pardir))\n",
    "data_folder = op.join(nav_root, 'vanilla', 'tests', 'data')\n",
    "f = op.join(data_folder, id_qpcr_plate + '.xls')\n",
    "\n",
    "qpcr_data = QpcrDataFile(f)\n",
    "id_qpcr_inst_plate = qpcr_data.get_data_by_well()"
   ]
  },
  {
   "cell_type": "code",
   "execution_count": 4,
   "metadata": {},
   "outputs": [],
   "source": [
    "from hardware.labchip import LabChip\n",
    "\n",
    "lc_plate = '20180103_B'\n",
    "fds = glob(op.join(data_folder, '*' + lc_plate + '*.csv'))\n",
    "\n",
    "files = {}\n",
    "for f in fds:\n",
    "    if 'PeakTable' in f:\n",
    "        files['peak_file'] = f\n",
    "    elif 'RawTable' in f:\n",
    "        files['raw_file'] = f\n",
    "    elif 'WellTable' in f:\n",
    "        \n",
    "        files['well_file'] = f\n",
    "lc = LabChip(**files)\n",
    "lc_inst_plate = lc.get_data_by_well()"
   ]
  },
  {
   "cell_type": "code",
   "execution_count": 5,
   "metadata": {},
   "outputs": [],
   "source": [
    "assays = {\n",
    "    'Kp_KPC_3.x_KPC19_KPC22': 343,\n",
    "    'Kp_KPC_4.x_KPC19_KPC23': 352,\n",
    "    'Kp_KPC_5.x_KPC19_KPC24': 396,\n",
    "    'Kp_KPC_6.x_KPC20_KPC22': 332,\n",
    "    'Kp_KPC_x.10_KPC26_KPC29': 199,\n",
    "    'Kp_KPC_x.9_KPC26_KPC28': 172}"
   ]
  },
  {
   "cell_type": "code",
   "execution_count": 7,
   "metadata": {},
   "outputs": [],
   "source": [
    "from clients.expt_recipes.common.model_builders import (build_id_qpcr_constituents,\n",
    "                                                        build_labchip_datas_from_inst_data)\n",
    "from clients.expt_recipes.vanilla.models import IdConstituents\n",
    "from clients.expt_recipes.vanilla.model_builders import (build_id_qpcr_datas_from_inst_data,\n",
    "                                                         create_vanilla_groupings,\n",
    "                                                         get_wells_by_id_assay)\n",
    "from clients.expt_recipes.common.utils import create_id_qpcr_lc_mapping, get_lc_dilutions\n",
    "from clients.expt_recipes.vanilla.models import VanillaMasterTable"
   ]
  },
  {
   "cell_type": "code",
   "execution_count": 8,
   "metadata": {},
   "outputs": [
    {
     "name": "stdout",
     "output_type": "stream",
     "text": [
      "Wall time: 6.52 ms\n"
     ]
    }
   ],
   "source": [
    "%%time\n",
    "id_plate_constituents = build_id_qpcr_constituents(\n",
    "    expt_plates[id_qpcr_plate], expt_plates, IdConstituents)\n",
    "\n",
    "wells_by_id_assay = get_wells_by_id_assay(id_plate_constituents)\n",
    "\n",
    "id_qpcr_datas = build_id_qpcr_datas_from_inst_data(id_plate_constituents,\n",
    "                                                   id_qpcr_inst_plate)"
   ]
  },
  {
   "cell_type": "code",
   "execution_count": 11,
   "metadata": {},
   "outputs": [
    {
     "name": "stdout",
     "output_type": "stream",
     "text": [
      "Wall time: 1.5 ms\n"
     ]
    }
   ],
   "source": [
    "%%time\n",
    "mapping = create_id_qpcr_lc_mapping(expt_plates[lc_plate])\n",
    "dilutions = get_lc_dilutions(expt_plates[lc_plate])\n",
    "lc_datas = build_labchip_datas_from_inst_data(\n",
    "    id_plate_constituents, lc_inst_plate, mapping, assays, dilutions)"
   ]
  },
  {
   "cell_type": "code",
   "execution_count": 16,
   "metadata": {
    "scrolled": true
   },
   "outputs": [
    {
     "name": "stdout",
     "output_type": "stream",
     "text": [
      "Wall time: 1.5 ms\n"
     ]
    }
   ],
   "source": [
    "%%time\n",
    "qwells = wells_by_id_assay[('Kp_KPC_5.x_KPC19_KPC24',)]\n",
    "lcwells = []\n",
    "for qw in qwells:\n",
    "    if qw in mapping:\n",
    "        lcwells.append(mapping[qw])\n",
    "    else:\n",
    "        lcwells.append(None)\n",
    "\n",
    "nmt = VanillaMasterTable.create_from_models(qwells,\n",
    "                                           id_qpcr_plate,\n",
    "                                           lcwells,\n",
    "                                           lc_plate,\n",
    "                                           id_plate_constituents,\n",
    "                                           id_qpcr_datas,\n",
    "                                           lc_datas)"
   ]
  },
  {
   "cell_type": "code",
   "execution_count": 17,
   "metadata": {},
   "outputs": [
    {
     "data": {
      "text/html": [
       "<div>\n",
       "<style scoped>\n",
       "    .dataframe tbody tr th:only-of-type {\n",
       "        vertical-align: middle;\n",
       "    }\n",
       "\n",
       "    .dataframe tbody tr th {\n",
       "        vertical-align: top;\n",
       "    }\n",
       "\n",
       "    .dataframe thead th {\n",
       "        text-align: right;\n",
       "    }\n",
       "</style>\n",
       "<table border=\"1\" class=\"dataframe\">\n",
       "  <thead>\n",
       "    <tr style=\"text-align: right;\">\n",
       "      <th></th>\n",
       "      <th>qPCR well</th>\n",
       "      <th>Ct</th>\n",
       "      <th>∆NTC_Ct</th>\n",
       "      <th>Ct_Call</th>\n",
       "      <th>Tm Specif</th>\n",
       "      <th>Tm NS</th>\n",
       "      <th>Tm PD</th>\n",
       "    </tr>\n",
       "  </thead>\n",
       "  <tbody>\n",
       "    <tr>\n",
       "      <th>0</th>\n",
       "      <td>A81_E217_1_E10</td>\n",
       "      <td>24.093719</td>\n",
       "      <td>15.906281</td>\n",
       "      <td>True</td>\n",
       "      <td>True</td>\n",
       "      <td>False</td>\n",
       "      <td>False</td>\n",
       "    </tr>\n",
       "    <tr>\n",
       "      <th>1</th>\n",
       "      <td>A81_E217_1_F10</td>\n",
       "      <td>20.041382</td>\n",
       "      <td>19.958618</td>\n",
       "      <td>True</td>\n",
       "      <td>True</td>\n",
       "      <td>False</td>\n",
       "      <td>False</td>\n",
       "    </tr>\n",
       "    <tr>\n",
       "      <th>2</th>\n",
       "      <td>A81_E217_1_D09</td>\n",
       "      <td>27.445021</td>\n",
       "      <td>12.554979</td>\n",
       "      <td>True</td>\n",
       "      <td>True</td>\n",
       "      <td>False</td>\n",
       "      <td>False</td>\n",
       "    </tr>\n",
       "    <tr>\n",
       "      <th>3</th>\n",
       "      <td>A81_E217_1_D10</td>\n",
       "      <td>27.369135</td>\n",
       "      <td>12.630865</td>\n",
       "      <td>True</td>\n",
       "      <td>True</td>\n",
       "      <td>False</td>\n",
       "      <td>False</td>\n",
       "    </tr>\n",
       "    <tr>\n",
       "      <th>4</th>\n",
       "      <td>A81_E217_1_B09</td>\n",
       "      <td>32.185207</td>\n",
       "      <td>7.814793</td>\n",
       "      <td>True</td>\n",
       "      <td>True</td>\n",
       "      <td>False</td>\n",
       "      <td>False</td>\n",
       "    </tr>\n",
       "    <tr>\n",
       "      <th>5</th>\n",
       "      <td>A81_E217_1_F09</td>\n",
       "      <td>20.481216</td>\n",
       "      <td>19.518784</td>\n",
       "      <td>True</td>\n",
       "      <td>True</td>\n",
       "      <td>False</td>\n",
       "      <td>False</td>\n",
       "    </tr>\n",
       "    <tr>\n",
       "      <th>6</th>\n",
       "      <td>A81_E217_1_C10</td>\n",
       "      <td>32.999088</td>\n",
       "      <td>7.000912</td>\n",
       "      <td>True</td>\n",
       "      <td>True</td>\n",
       "      <td>False</td>\n",
       "      <td>False</td>\n",
       "    </tr>\n",
       "    <tr>\n",
       "      <th>7</th>\n",
       "      <td>A81_E217_1_C09</td>\n",
       "      <td>32.877289</td>\n",
       "      <td>7.122711</td>\n",
       "      <td>True</td>\n",
       "      <td>True</td>\n",
       "      <td>False</td>\n",
       "      <td>False</td>\n",
       "    </tr>\n",
       "    <tr>\n",
       "      <th>8</th>\n",
       "      <td>A81_E217_1_B10</td>\n",
       "      <td>31.993595</td>\n",
       "      <td>8.006405</td>\n",
       "      <td>True</td>\n",
       "      <td>True</td>\n",
       "      <td>False</td>\n",
       "      <td>False</td>\n",
       "    </tr>\n",
       "    <tr>\n",
       "      <th>9</th>\n",
       "      <td>A81_E217_1_E09</td>\n",
       "      <td>23.967501</td>\n",
       "      <td>16.032499</td>\n",
       "      <td>True</td>\n",
       "      <td>True</td>\n",
       "      <td>False</td>\n",
       "      <td>False</td>\n",
       "    </tr>\n",
       "    <tr>\n",
       "      <th>10</th>\n",
       "      <td>A81_E217_1_H09</td>\n",
       "      <td>NaN</td>\n",
       "      <td>NaN</td>\n",
       "      <td>False</td>\n",
       "      <td>False</td>\n",
       "      <td>True</td>\n",
       "      <td>False</td>\n",
       "    </tr>\n",
       "    <tr>\n",
       "      <th>11</th>\n",
       "      <td>A81_E217_1_G09</td>\n",
       "      <td>NaN</td>\n",
       "      <td>NaN</td>\n",
       "      <td>False</td>\n",
       "      <td>False</td>\n",
       "      <td>True</td>\n",
       "      <td>False</td>\n",
       "    </tr>\n",
       "    <tr>\n",
       "      <th>12</th>\n",
       "      <td>A81_E217_1_G10</td>\n",
       "      <td>NaN</td>\n",
       "      <td>NaN</td>\n",
       "      <td>False</td>\n",
       "      <td>False</td>\n",
       "      <td>True</td>\n",
       "      <td>False</td>\n",
       "    </tr>\n",
       "    <tr>\n",
       "      <th>13</th>\n",
       "      <td>A81_E217_1_H10</td>\n",
       "      <td>NaN</td>\n",
       "      <td>NaN</td>\n",
       "      <td>False</td>\n",
       "      <td>False</td>\n",
       "      <td>True</td>\n",
       "      <td>True</td>\n",
       "    </tr>\n",
       "    <tr>\n",
       "      <th>14</th>\n",
       "      <td>A81_E217_1_A09</td>\n",
       "      <td>NaN</td>\n",
       "      <td>NaN</td>\n",
       "      <td>False</td>\n",
       "      <td>False</td>\n",
       "      <td>False</td>\n",
       "      <td>True</td>\n",
       "    </tr>\n",
       "    <tr>\n",
       "      <th>15</th>\n",
       "      <td>A81_E217_1_A10</td>\n",
       "      <td>NaN</td>\n",
       "      <td>NaN</td>\n",
       "      <td>False</td>\n",
       "      <td>False</td>\n",
       "      <td>False</td>\n",
       "      <td>True</td>\n",
       "    </tr>\n",
       "  </tbody>\n",
       "</table>\n",
       "</div>"
      ],
      "text/plain": [
       "         qPCR well         Ct    ∆NTC_Ct  Ct_Call  Tm Specif  Tm NS  Tm PD\n",
       "0   A81_E217_1_E10  24.093719  15.906281     True       True  False  False\n",
       "1   A81_E217_1_F10  20.041382  19.958618     True       True  False  False\n",
       "2   A81_E217_1_D09  27.445021  12.554979     True       True  False  False\n",
       "3   A81_E217_1_D10  27.369135  12.630865     True       True  False  False\n",
       "4   A81_E217_1_B09  32.185207   7.814793     True       True  False  False\n",
       "5   A81_E217_1_F09  20.481216  19.518784     True       True  False  False\n",
       "6   A81_E217_1_C10  32.999088   7.000912     True       True  False  False\n",
       "7   A81_E217_1_C09  32.877289   7.122711     True       True  False  False\n",
       "8   A81_E217_1_B10  31.993595   8.006405     True       True  False  False\n",
       "9   A81_E217_1_E09  23.967501  16.032499     True       True  False  False\n",
       "10  A81_E217_1_H09        NaN        NaN    False      False   True  False\n",
       "11  A81_E217_1_G09        NaN        NaN    False      False   True  False\n",
       "12  A81_E217_1_G10        NaN        NaN    False      False   True  False\n",
       "13  A81_E217_1_H10        NaN        NaN    False      False   True   True\n",
       "14  A81_E217_1_A09        NaN        NaN    False      False  False   True\n",
       "15  A81_E217_1_A10        NaN        NaN    False      False  False   True"
      ]
     },
     "execution_count": 17,
     "metadata": {},
     "output_type": "execute_result"
    }
   ],
   "source": [
    "import pandas as pd\n",
    "df = pd.DataFrame(nmt.rows)\n",
    "df.loc[:, ['qPCR well', 'Ct', '∆NTC_Ct', 'Ct_Call', 'Tm Specif','Tm NS', 'Tm PD']]"
   ]
  }
 ],
 "metadata": {
  "kernelspec": {
   "display_name": "Python 3",
   "language": "python",
   "name": "python3"
  },
  "language_info": {
   "codemirror_mode": {
    "name": "ipython",
    "version": 3
   },
   "file_extension": ".py",
   "mimetype": "text/x-python",
   "name": "python",
   "nbconvert_exporter": "python",
   "pygments_lexer": "ipython3",
   "version": "3.5.4"
  }
 },
 "nbformat": 4,
 "nbformat_minor": 2
}
